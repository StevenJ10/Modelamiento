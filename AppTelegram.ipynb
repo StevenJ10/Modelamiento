{
  "nbformat": 4,
  "nbformat_minor": 0,
  "metadata": {
    "colab": {
      "provenance": [],
      "authorship_tag": "ABX9TyMfxapk5/5TvFRjTleSysqD",
      "include_colab_link": true
    },
    "kernelspec": {
      "name": "python3",
      "display_name": "Python 3"
    },
    "language_info": {
      "name": "python"
    }
  },
  "cells": [
    {
      "cell_type": "markdown",
      "metadata": {
        "id": "view-in-github",
        "colab_type": "text"
      },
      "source": [
        "<a href=\"https://colab.research.google.com/github/StevenJ10/Modelamiento/blob/main/AppTelegram.ipynb\" target=\"_parent\"><img src=\"https://colab.research.google.com/assets/colab-badge.svg\" alt=\"Open In Colab\"/></a>"
      ]
    },
    {
      "cell_type": "code",
      "execution_count": 1,
      "metadata": {
        "colab": {
          "base_uri": "https://localhost:8080/"
        },
        "id": "hbnzcx3rz85J",
        "outputId": "c3966f15-8f59-4630-ce58-04a4720566a5"
      },
      "outputs": [
        {
          "output_type": "stream",
          "name": "stdout",
          "text": [
            "Looking in indexes: https://pypi.org/simple, https://us-python.pkg.dev/colab-wheels/public/simple/\n",
            "Collecting pyecoregen\n",
            "  Downloading pyecoregen-0.5.1-py3-none-any.whl (13 kB)\n",
            "Requirement already satisfied: jinja2 in /usr/local/lib/python3.7/dist-packages (from pyecoregen) (2.11.3)\n",
            "Collecting pymultigen\n",
            "  Downloading pymultigen-0.2.0-py3-none-any.whl (12 kB)\n",
            "Collecting autopep8\n",
            "  Downloading autopep8-1.7.0-py2.py3-none-any.whl (45 kB)\n",
            "\u001b[K     |████████████████████████████████| 45 kB 2.7 MB/s \n",
            "\u001b[?25hCollecting pyecore\n",
            "  Downloading pyecore-0.12.2-py3-none-any.whl (42 kB)\n",
            "\u001b[K     |████████████████████████████████| 42 kB 1.8 MB/s \n",
            "\u001b[?25hRequirement already satisfied: toml in /usr/local/lib/python3.7/dist-packages (from autopep8->pyecoregen) (0.10.2)\n",
            "Collecting pycodestyle>=2.9.1\n",
            "  Downloading pycodestyle-2.9.1-py2.py3-none-any.whl (41 kB)\n",
            "\u001b[K     |████████████████████████████████| 41 kB 547 kB/s \n",
            "\u001b[?25hRequirement already satisfied: MarkupSafe>=0.23 in /usr/local/lib/python3.7/dist-packages (from jinja2->pyecoregen) (2.0.1)\n",
            "Collecting ordered-set>=4.0.1\n",
            "  Downloading ordered_set-4.1.0-py3-none-any.whl (7.6 kB)\n",
            "Collecting future-fstrings\n",
            "  Downloading future_fstrings-1.2.0-py2.py3-none-any.whl (6.1 kB)\n",
            "Collecting restrictedpython>=4.0b6\n",
            "  Downloading RestrictedPython-6.0a1.dev0-py3-none-any.whl (25 kB)\n",
            "Requirement already satisfied: lxml in /usr/local/lib/python3.7/dist-packages (from pyecore->pyecoregen) (4.9.1)\n",
            "Installing collected packages: restrictedpython, pycodestyle, ordered-set, future-fstrings, pymultigen, pyecore, autopep8, pyecoregen\n",
            "Successfully installed autopep8-1.7.0 future-fstrings-1.2.0 ordered-set-4.1.0 pycodestyle-2.9.1 pyecore-0.12.2 pyecoregen-0.5.1 pymultigen-0.2.0 restrictedpython-6.0a1.dev0\n"
          ]
        }
      ],
      "source": [
        "!pip install pyecoregen"
      ]
    },
    {
      "cell_type": "code",
      "source": [
        "!pyecoregen -vv -e bot.ecore -o some/content"
      ],
      "metadata": {
        "colab": {
          "base_uri": "https://localhost:8080/"
        },
        "id": "Nyh1uYe91EBW",
        "outputId": "f023d238-ba9a-4296-d42b-e56db75be574"
      },
      "execution_count": 5,
      "outputs": [
        {
          "output_type": "stream",
          "name": "stdout",
          "text": [
            "2022-09-21 02:22:39,389 INFO [multigen.generator] Generating code to 'some/content'.\n",
            "2022-09-21 02:22:39,389 DEBUG [multigen.generator] <pyecore.ecore.EPackage object at 0x7fc90b4fa8d0> --> 'some/content/BotTelegram/__init__.py'\n",
            "2022-09-21 02:22:39,457 DEBUG [multigen.generator] <pyecore.ecore.EPackage object at 0x7fc90b4fa8d0> --> 'some/content/BotTelegram/BotTelegram.py'\n"
          ]
        }
      ]
    }
  ]
}